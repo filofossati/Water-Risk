{
 "cells": [
  {
   "cell_type": "markdown",
   "id": "39e4802c",
   "metadata": {},
   "source": [
    "# Introduction \n",
    "\n",
    "1. **Notebook Description** In this notebook, I conduct exploratory data analysis (EDA) On Encore\n",
    "2. **Author** Filippo Radice Fossati\n",
    "3. **Date** 09/22/2023"
   ]
  },
  {
   "cell_type": "markdown",
   "id": "64f2cfa2",
   "metadata": {},
   "source": [
    "# Notebook Structure \n",
    "\n",
    "This notebook is structured as follows:\n",
    "\n",
    "1. **Section 1**: Importing necessary libraries and datasets.\n",
    "2. **Section 2**: EDA on Encore"
   ]
  },
  {
   "cell_type": "markdown",
   "id": "3a80c291",
   "metadata": {},
   "source": [
    "# Section 1 - Import Libraries & Files"
   ]
  },
  {
   "cell_type": "code",
   "execution_count": 1,
   "id": "51baa766",
   "metadata": {
    "scrolled": true
   },
   "outputs": [],
   "source": [
    "import pandas as pd\n",
    "import numpy as np\n",
    "import matplotlib.pyplot as plt\n",
    "import seaborn as sns\n",
    "\n",
    "import warnings\n",
    "import seaborn as sns\n",
    "import matplotlib.pyplot as plt\n",
    "\n",
    "\n",
    "import rasterio\n",
    "import osmnx as ox\n",
    "import geopandas as gpd\n",
    "\n",
    "import support_function as sf\n",
    "\n",
    "%load_ext autoreload\n",
    "%autoreload 2\n",
    "#to suppress scientifc notation\n",
    "\n",
    "plt.style.use('ggplot')\n",
    "plt.rcParams.update({'font.size': 16, 'axes.labelweight': 'bold', 'figure.figsize': (6, 6), 'axes.edgecolor': '0.2'})"
   ]
  },
  {
   "cell_type": "code",
   "execution_count": 2,
   "id": "4aede761",
   "metadata": {
    "scrolled": true
   },
   "outputs": [],
   "source": [
    "#loading in dependency and impact dataset\n",
    "materiality = pd.read_csv(\"./_data/ENCORE_data/ENCORE dependency materialities.csv\")\n",
    "\n",
    "\n",
    "# I ended up not using this file so I commented them out and deleted from _data/ENCORE folder\n",
    "# materiality_db = pd.read_excel(\"./_data/ENCORE_data/ENCORE dependencies database.xlsx\")\n",
    "# asset_driver = pd.read_csv(\"./_data/ENCORE_data/assets_driver_of_environmental_change_join.csv\",encoding='ISO-8859-1')\n",
    "# asset = pd.read_csv(\"./_data/ENCORE_data/assets.csv\")\n",
    "# benefit = pd.read_csv(\"./_data/ENCORE_data/benefits.csv\")\n",
    "# driver_of_change = pd.read_csv(\"./_data/ENCORE_data/drivers of environmental change.csv\",encoding='ISO-8859-1')\n",
    "# asset_ecosystem_services = pd.read_csv(\"./_data/ENCORE_data/ecosystem_services_assets_join.csv\",encoding='ISO-8859-1')\n",
    "# ecosystem_services = pd.read_csv(\"./_data/ENCORE_data/ecosystem_services.csv\",encoding='ISO-8859-1')\n",
    "\n",
    "# sector_subindustries_and_processes = pd.read_csv(\"./_data/ENCORE_data/sectors_subindustries_and_processes.csv\")\n"
   ]
  },
  {
   "cell_type": "markdown",
   "id": "2d42f0c0",
   "metadata": {},
   "source": [
    "# Section 2 - EDA"
   ]
  },
  {
   "cell_type": "markdown",
   "id": "792b36ba",
   "metadata": {},
   "source": [
    "## 2.1 - Encore Dependency Materialities"
   ]
  },
  {
   "cell_type": "markdown",
   "id": "847017f4",
   "metadata": {},
   "source": [
    "**Encore Dependency Materialities** The materiality rating component of the dependency scores are taken from the ENCORE knowledge base (Natural Capital Finance Alliance 2022). The ENCORE knowledge base assesses the links between each sector of the global economy, the ecosystem services that support their production processes and the natural capital assets that support those services.The reliance of production processes on ecosystem services is scored through qualitative materiality ratings (Very Low to Very High). And These qualitative metrics are then converted to numeric\n",
    "\n"
   ]
  },
  {
   "cell_type": "code",
   "execution_count": 3,
   "id": "0e4c396b",
   "metadata": {
    "scrolled": true
   },
   "outputs": [
    {
     "data": {
      "text/plain": [
       "Index(['process', 'ecosystem_service', 'rating', 'justification'], dtype='object')"
      ]
     },
     "execution_count": 3,
     "metadata": {},
     "output_type": "execute_result"
    }
   ],
   "source": [
    "#renaming columns\n",
    "materiality.columns = materiality.columns.map(lambda x: '_'.join(x.split(' ')).lower())\n",
    "materiality.columns"
   ]
  },
  {
   "cell_type": "code",
   "execution_count": 4,
   "id": "a2ba2111",
   "metadata": {
    "scrolled": true
   },
   "outputs": [
    {
     "name": "stdout",
     "output_type": "stream",
     "text": [
      "<class 'pandas.core.frame.DataFrame'>\n",
      "RangeIndex: 652 entries, 0 to 651\n",
      "Data columns (total 4 columns):\n",
      " #   Column             Non-Null Count  Dtype \n",
      "---  ------             --------------  ----- \n",
      " 0   process            652 non-null    object\n",
      " 1   ecosystem_service  652 non-null    object\n",
      " 2   rating             652 non-null    object\n",
      " 3   justification      652 non-null    object\n",
      "dtypes: object(4)\n",
      "memory usage: 20.5+ KB\n"
     ]
    }
   ],
   "source": [
    "#Checking General Info Of teh Dataset\n",
    "materiality.info()"
   ]
  },
  {
   "cell_type": "code",
   "execution_count": 5,
   "id": "751f693b",
   "metadata": {
    "scrolled": true
   },
   "outputs": [
    {
     "data": {
      "text/plain": [
       "process              0.0\n",
       "ecosystem_service    0.0\n",
       "rating               0.0\n",
       "justification        0.0\n",
       "dtype: float64"
      ]
     },
     "execution_count": 5,
     "metadata": {},
     "output_type": "execute_result"
    }
   ],
   "source": [
    "#Checking Null Values\n",
    "materiality.isnull().mean()"
   ]
  },
  {
   "cell_type": "code",
   "execution_count": 6,
   "id": "50dade7c",
   "metadata": {},
   "outputs": [],
   "source": [
    "\"\"\"\n",
    "Mapping List of Activities of Different Asset with Processes\"\n",
    "\n",
    "'Biofuel Plant': 'Biomass energy production'\n",
    ", 'Coal Mine': 'Mining'\n",
    ", 'Company Headquarters':\n",
    ",'Industrial Plant'\n",
    ", 'Instn Address'\n",
    ", 'Mining Property':'Mining'\n",
    ",'Oil and Gas Exploration and Production'\n",
    ", 'Port'\n",
    ",'Power Generation'\n",
    ", 'Power Plant'\n",
    ", 'Power Plants'\n",
    ",'Refinery and Chemicals Plant'\n",
    ", 'Regulated Industrial Site': ''\n",
    ",'Steel Plant':'Steel production'\n",
    ", 'Sugar Refinery':'Biomass energy production'\n",
    "\"\"\";"
   ]
  },
  {
   "cell_type": "code",
   "execution_count": 7,
   "id": "f81029eb",
   "metadata": {
    "scrolled": true
   },
   "outputs": [
    {
     "data": {
      "text/plain": [
       "array(['Airport services', 'Alcoholic fermentation and distilling',\n",
       "       'Alumina refining', 'Aquaculture', 'Biomass energy production',\n",
       "       'Cable and satellite installations on land',\n",
       "       'Catalytic cracking, fractional distillation and crystallization',\n",
       "       'Construction', 'Construction materials production',\n",
       "       'Cruise line provision', 'Cryogenic air separation',\n",
       "       'Distribution',\n",
       "       'Electric/nuclear power transmission and distribution',\n",
       "       'Electronics and hardware production',\n",
       "       'Environmental and facilities services',\n",
       "       'Fibre-optic cable installation (marine)', 'Financial services',\n",
       "       'Footwear production', 'Freshwater wild-caught fish',\n",
       "       'Gas adsorption', 'Gas distribution', 'Gas retail',\n",
       "       'Geothermal energy production', 'Glass making',\n",
       "       'Hotels and resorts provision',\n",
       "       'Houseware and specialities production', 'Hydropower production',\n",
       "       'Incomplete combustion', 'Infrastructure builds',\n",
       "       'Infrastructure holdings', 'Infrastructure maintenance contracts',\n",
       "       'Integrated oil and gas', 'Iron extraction',\n",
       "       'Iron metal production', 'Jewellery production',\n",
       "       'Large-scale forestry', 'Large-scale irrigated arable crops',\n",
       "       'Large-scale livestock (beef and dairy)',\n",
       "       'Large-scale rainfed arable crops', 'Leisure facility provision',\n",
       "       'Life science, pharma and biotech manufacture',\n",
       "       'Life science, pharma and biotech tools and services',\n",
       "       'Managed health care',\n",
       "       'Manufacture of machinery, parts and equipment',\n",
       "       'Manufacture of semiconductor equipment',\n",
       "       'Marine ports and services', 'Marine transportation',\n",
       "       'Membrane technology', 'Metal processing', 'Mining',\n",
       "       'Natural fibre production', 'Natural gas combustion',\n",
       "       'Nuclear and thermal power stations', 'Oil and gas drilling',\n",
       "       'Oil and gas exploration surveys', 'Oil and gas refining',\n",
       "       'Oil and gas services', 'Oil and gas storage',\n",
       "       'Oil and gas transportation', 'Paper packaging production',\n",
       "       'Polymerization', 'Processed food and drink production',\n",
       "       'Production of forest and wood-based products',\n",
       "       'Production of leisure or personal products',\n",
       "       'Production of paper products', 'Provision of health care',\n",
       "       'Railway transportation', 'Real estate activities',\n",
       "       'Recovery and separation of carbon dioxide',\n",
       "       'Restaurant provision', 'Saltwater wild-caught fish',\n",
       "       'Small-scale forestry', 'Small-scale irrigated arable crops',\n",
       "       'Small-scale livestock (beef and dairy)',\n",
       "       'Small-scale rainfed arable crops', 'Solar energy provision',\n",
       "       'Solids processing', 'Steel production',\n",
       "       'Synthetic fertilizer production', 'Synthetic fibre production',\n",
       "       'Telecommunication and wireless services', 'Tobacco production',\n",
       "       'Tyre and rubber production', 'Vulcanisation',\n",
       "       'Water services (e.g. waste water, treatment and distribution)',\n",
       "       'Wind energy provision'], dtype=object)"
      ]
     },
     "execution_count": 7,
     "metadata": {},
     "output_type": "execute_result"
    }
   ],
   "source": [
    "#checking unique values of all columns\n",
    "materiality['process'].sort_values().unique()"
   ]
  },
  {
   "cell_type": "code",
   "execution_count": 8,
   "id": "59b1d959",
   "metadata": {
    "scrolled": false
   },
   "outputs": [
    {
     "data": {
      "text/plain": [
       "array(['Mass stabilisation and erosion control', 'Ground water',\n",
       "       'Surface water', 'Climate regulation',\n",
       "       'Flood and storm protection', 'Filtration',\n",
       "       'Dilution by atmosphere and ecosystems', 'Genetic materials',\n",
       "       'Water flow maintenance', 'Water quality', 'Soil quality',\n",
       "       'Pest control', 'Disease control', 'Ventilation',\n",
       "       'Fibres and other materials',\n",
       "       'Buffering and attenuation of mass flows', 'Bio-remediation',\n",
       "       'Maintain nursery habitats', 'Mediation of sensory impacts',\n",
       "       'Animal-based energy', 'Pollination'], dtype=object)"
      ]
     },
     "execution_count": 8,
     "metadata": {},
     "output_type": "execute_result"
    }
   ],
   "source": [
    "materiality['ecosystem_service'].unique()"
   ]
  },
  {
   "cell_type": "code",
   "execution_count": 9,
   "id": "144a7b3d",
   "metadata": {
    "scrolled": true
   },
   "outputs": [
    {
     "data": {
      "text/plain": [
       "array(['M', 'H', 'VH', 'L', 'VL'], dtype=object)"
      ]
     },
     "execution_count": 9,
     "metadata": {},
     "output_type": "execute_result"
    }
   ],
   "source": [
    "materiality['rating'].unique()"
   ]
  },
  {
   "cell_type": "code",
   "execution_count": 10,
   "id": "922a4030",
   "metadata": {
    "scrolled": true
   },
   "outputs": [
    {
     "data": {
      "text/plain": [
       "array(['Although less practical, production process can take place without the ecosystem service due to availability of impact mitigation solutions',\n",
       "       'Although less practical, production process can take place without the ecosystem service due to availability of protection substitutes',\n",
       "       'Although less practical, production process can take place without the ecosystem service due to availability of substitutes',\n",
       "       'Ecosystem service is critical and irreplaceable in production process',\n",
       "       'Ecosystem service is critical and irreplaceable in production process ',\n",
       "       'Ecosystem service is critical and irreplaceable in production process. Production process can take place with some disruption of the ecosystem service, but the high quantity of the ecosystem service required for the production process makes service this a high risk\\n',\n",
       "       'Ecosystem service is critical and irreplaceable in production process. Production process can take place with some disruption of the ecosystem service, but the high quantity of the ecosystem service required for the production process makes this a high risk',\n",
       "       'High temperature geothermal energy is the predominant commercially produced form of geothermal energy and is not heavily reliant on surface water. However, low temperature geothermal is typically reliant on significant quantities service of surface water and could not function with it.',\n",
       "       'Most of the time the production process can take place even\\nwith full disruption of the ecosystem service',\n",
       "       'Most of the time the production process can take place even with full disruption of the ecosystem service',\n",
       "       'Most of the time the production process can take place even with full disruption of the ecosystem service ',\n",
       "       'Most of the time the production process can take place even with full disruption of the ecosystem service due to the resilience of the production process to disruption',\n",
       "       'Most of the time the production process can take place with\\nlimited (but not with full) disruption of the\\necosystem service',\n",
       "       'Most of the time the production process can take place with limited (but not with full) disruption of the ecosystem service',\n",
       "       'Most of the time the production process can take place with limited (but not with full) disruption of the ecosystem service\\n\\n',\n",
       "       'Most of the time the production process can take place with limited (but not with full) disruption of the ecosystem service\\n\\n Although less practical, production process can take place without the ecosystem service due to availability of substitutes\\n',\n",
       "       'Most of the time the production process can take place with limited (but not with full) disruption of the ecosystem service\\nAlthough less practical, production process can take place without the ecosystem service due to availability of substitutes',\n",
       "       'Most of the time the production process can take place with limited (but not with full) disruption of the ecosystem service ',\n",
       "       'Most of the time the production process can take place with limited (but not with full) disruption of the ecosystem service due to the resilience of the production process to disruption',\n",
       "       'Most of the time the production process can take place with limited (but not with full) disruption of the ecosystem service. Although less practical, production process can take place without the ecosystem service due to availability of substitutes',\n",
       "       'Most of the time the production process can take place with limited (but not with full) disruption of the ecosystem service. Although less practical, production process can take place without the ecosystem service due to availability of substitutes\\n',\n",
       "       'Production process can take place with some disruption of the ecosystem service, but the high quantity of the ecosystem service required for the production process makes this a high risk',\n",
       "       'Production process does not rely on the ecosystem service per se, but on other production processes (e.g. agriculture)',\n",
       "       'The production process is extremely vulnerable to disruption ',\n",
       "       'The production process is extremely vulnerable to disruption The degree of protection offered by the ecosystem service is critical and irreplaceable for the production process ',\n",
       "       'The production process is extremely vulnerable to disruption. The degree of protection offered by the ecosystem service is critical and irreplaceable for the production process '],\n",
       "      dtype=object)"
      ]
     },
     "execution_count": 10,
     "metadata": {},
     "output_type": "execute_result"
    }
   ],
   "source": [
    "materiality['justification'].sort_values().unique()"
   ]
  },
  {
   "cell_type": "code",
   "execution_count": 11,
   "id": "aa3e239b",
   "metadata": {},
   "outputs": [
    {
     "data": {
      "text/html": [
       "<div>\n",
       "<style scoped>\n",
       "    .dataframe tbody tr th:only-of-type {\n",
       "        vertical-align: middle;\n",
       "    }\n",
       "\n",
       "    .dataframe tbody tr th {\n",
       "        vertical-align: top;\n",
       "    }\n",
       "\n",
       "    .dataframe thead th {\n",
       "        text-align: right;\n",
       "    }\n",
       "</style>\n",
       "<table border=\"1\" class=\"dataframe\">\n",
       "  <thead>\n",
       "    <tr style=\"text-align: right;\">\n",
       "      <th></th>\n",
       "      <th>process</th>\n",
       "      <th>ecosystem_service</th>\n",
       "      <th>rating</th>\n",
       "      <th>justification</th>\n",
       "    </tr>\n",
       "  </thead>\n",
       "  <tbody>\n",
       "    <tr>\n",
       "      <th>0</th>\n",
       "      <td>Airport services</td>\n",
       "      <td>Mass stabilisation and erosion control</td>\n",
       "      <td>M</td>\n",
       "      <td>Although less practical, production process ca...</td>\n",
       "    </tr>\n",
       "    <tr>\n",
       "      <th>1</th>\n",
       "      <td>Airport services</td>\n",
       "      <td>Ground water</td>\n",
       "      <td>M</td>\n",
       "      <td>Although less practical, production process ca...</td>\n",
       "    </tr>\n",
       "    <tr>\n",
       "      <th>2</th>\n",
       "      <td>Airport services</td>\n",
       "      <td>Surface water</td>\n",
       "      <td>M</td>\n",
       "      <td>Although less practical, production process ca...</td>\n",
       "    </tr>\n",
       "    <tr>\n",
       "      <th>3</th>\n",
       "      <td>Airport services</td>\n",
       "      <td>Climate regulation</td>\n",
       "      <td>M</td>\n",
       "      <td>Most of the time the production process can ta...</td>\n",
       "    </tr>\n",
       "    <tr>\n",
       "      <th>4</th>\n",
       "      <td>Airport services</td>\n",
       "      <td>Flood and storm protection</td>\n",
       "      <td>H</td>\n",
       "      <td>The production process is extremely vulnerable...</td>\n",
       "    </tr>\n",
       "    <tr>\n",
       "      <th>...</th>\n",
       "      <td>...</td>\n",
       "      <td>...</td>\n",
       "      <td>...</td>\n",
       "      <td>...</td>\n",
       "    </tr>\n",
       "    <tr>\n",
       "      <th>647</th>\n",
       "      <td>Water services (e.g. waste water, treatment an...</td>\n",
       "      <td>Surface water</td>\n",
       "      <td>VH</td>\n",
       "      <td>The production process is extremely vulnerable...</td>\n",
       "    </tr>\n",
       "    <tr>\n",
       "      <th>648</th>\n",
       "      <td>Water services (e.g. waste water, treatment an...</td>\n",
       "      <td>Water flow maintenance</td>\n",
       "      <td>VH</td>\n",
       "      <td>The production process is extremely vulnerable...</td>\n",
       "    </tr>\n",
       "    <tr>\n",
       "      <th>649</th>\n",
       "      <td>Wind energy provision</td>\n",
       "      <td>Mass stabilisation and erosion control</td>\n",
       "      <td>M</td>\n",
       "      <td>Although less practical, production process ca...</td>\n",
       "    </tr>\n",
       "    <tr>\n",
       "      <th>650</th>\n",
       "      <td>Wind energy provision</td>\n",
       "      <td>Flood and storm protection</td>\n",
       "      <td>M</td>\n",
       "      <td>Most of the time the production process can ta...</td>\n",
       "    </tr>\n",
       "    <tr>\n",
       "      <th>651</th>\n",
       "      <td>Wind energy provision</td>\n",
       "      <td>Climate regulation</td>\n",
       "      <td>VH</td>\n",
       "      <td>The production process is extremely vulnerable...</td>\n",
       "    </tr>\n",
       "  </tbody>\n",
       "</table>\n",
       "<p>652 rows × 4 columns</p>\n",
       "</div>"
      ],
      "text/plain": [
       "                                               process  \\\n",
       "0                                     Airport services   \n",
       "1                                     Airport services   \n",
       "2                                     Airport services   \n",
       "3                                     Airport services   \n",
       "4                                     Airport services   \n",
       "..                                                 ...   \n",
       "647  Water services (e.g. waste water, treatment an...   \n",
       "648  Water services (e.g. waste water, treatment an...   \n",
       "649                              Wind energy provision   \n",
       "650                              Wind energy provision   \n",
       "651                              Wind energy provision   \n",
       "\n",
       "                          ecosystem_service rating  \\\n",
       "0    Mass stabilisation and erosion control      M   \n",
       "1                              Ground water      M   \n",
       "2                             Surface water      M   \n",
       "3                        Climate regulation      M   \n",
       "4                Flood and storm protection      H   \n",
       "..                                      ...    ...   \n",
       "647                           Surface water     VH   \n",
       "648                  Water flow maintenance     VH   \n",
       "649  Mass stabilisation and erosion control      M   \n",
       "650              Flood and storm protection      M   \n",
       "651                      Climate regulation     VH   \n",
       "\n",
       "                                         justification  \n",
       "0    Although less practical, production process ca...  \n",
       "1    Although less practical, production process ca...  \n",
       "2    Although less practical, production process ca...  \n",
       "3    Most of the time the production process can ta...  \n",
       "4    The production process is extremely vulnerable...  \n",
       "..                                                 ...  \n",
       "647  The production process is extremely vulnerable...  \n",
       "648  The production process is extremely vulnerable...  \n",
       "649  Although less practical, production process ca...  \n",
       "650  Most of the time the production process can ta...  \n",
       "651  The production process is extremely vulnerable...  \n",
       "\n",
       "[652 rows x 4 columns]"
      ]
     },
     "execution_count": 11,
     "metadata": {},
     "output_type": "execute_result"
    }
   ],
   "source": [
    "materiality"
   ]
  },
  {
   "cell_type": "code",
   "execution_count": 12,
   "id": "d0d92999",
   "metadata": {},
   "outputs": [
    {
     "data": {
      "text/html": [
       "<div>\n",
       "<style scoped>\n",
       "    .dataframe tbody tr th:only-of-type {\n",
       "        vertical-align: middle;\n",
       "    }\n",
       "\n",
       "    .dataframe tbody tr th {\n",
       "        vertical-align: top;\n",
       "    }\n",
       "\n",
       "    .dataframe thead th {\n",
       "        text-align: right;\n",
       "    }\n",
       "</style>\n",
       "<table border=\"1\" class=\"dataframe\">\n",
       "  <thead>\n",
       "    <tr style=\"text-align: right;\">\n",
       "      <th></th>\n",
       "      <th>process</th>\n",
       "      <th>ecosystem_service</th>\n",
       "      <th>rating</th>\n",
       "      <th>justification</th>\n",
       "    </tr>\n",
       "  </thead>\n",
       "  <tbody>\n",
       "    <tr>\n",
       "      <th>364</th>\n",
       "      <td>Mining</td>\n",
       "      <td>Mass stabilisation and erosion control</td>\n",
       "      <td>M</td>\n",
       "      <td>Although less practical, production process ca...</td>\n",
       "    </tr>\n",
       "    <tr>\n",
       "      <th>365</th>\n",
       "      <td>Mining</td>\n",
       "      <td>Surface water</td>\n",
       "      <td>H</td>\n",
       "      <td>Ecosystem service is critical and irreplaceabl...</td>\n",
       "    </tr>\n",
       "    <tr>\n",
       "      <th>366</th>\n",
       "      <td>Mining</td>\n",
       "      <td>Water flow maintenance</td>\n",
       "      <td>H</td>\n",
       "      <td>Ecosystem service is critical and irreplaceabl...</td>\n",
       "    </tr>\n",
       "    <tr>\n",
       "      <th>367</th>\n",
       "      <td>Mining</td>\n",
       "      <td>Ground water</td>\n",
       "      <td>H</td>\n",
       "      <td>Ecosystem service is critical and irreplaceabl...</td>\n",
       "    </tr>\n",
       "    <tr>\n",
       "      <th>368</th>\n",
       "      <td>Mining</td>\n",
       "      <td>Climate regulation</td>\n",
       "      <td>H</td>\n",
       "      <td>The production process is extremely vulnerable...</td>\n",
       "    </tr>\n",
       "  </tbody>\n",
       "</table>\n",
       "</div>"
      ],
      "text/plain": [
       "    process                       ecosystem_service rating  \\\n",
       "364  Mining  Mass stabilisation and erosion control      M   \n",
       "365  Mining                           Surface water      H   \n",
       "366  Mining                  Water flow maintenance      H   \n",
       "367  Mining                            Ground water      H   \n",
       "368  Mining                      Climate regulation      H   \n",
       "\n",
       "                                         justification  \n",
       "364  Although less practical, production process ca...  \n",
       "365  Ecosystem service is critical and irreplaceabl...  \n",
       "366  Ecosystem service is critical and irreplaceabl...  \n",
       "367  Ecosystem service is critical and irreplaceabl...  \n",
       "368  The production process is extremely vulnerable...  "
      ]
     },
     "execution_count": 12,
     "metadata": {},
     "output_type": "execute_result"
    }
   ],
   "source": [
    "# I need now to subset the df by selecting mining as process\n",
    "mining_materiality = materiality[(materiality['process']=='Mining')].copy()\n",
    "mining_materiality"
   ]
  },
  {
   "cell_type": "code",
   "execution_count": 13,
   "id": "215d7fd1",
   "metadata": {},
   "outputs": [
    {
     "data": {
      "text/html": [
       "<div>\n",
       "<style scoped>\n",
       "    .dataframe tbody tr th:only-of-type {\n",
       "        vertical-align: middle;\n",
       "    }\n",
       "\n",
       "    .dataframe tbody tr th {\n",
       "        vertical-align: top;\n",
       "    }\n",
       "\n",
       "    .dataframe thead th {\n",
       "        text-align: right;\n",
       "    }\n",
       "</style>\n",
       "<table border=\"1\" class=\"dataframe\">\n",
       "  <thead>\n",
       "    <tr style=\"text-align: right;\">\n",
       "      <th></th>\n",
       "      <th>process</th>\n",
       "      <th>ecosystem_service</th>\n",
       "      <th>rating</th>\n",
       "      <th>justification</th>\n",
       "      <th>rating_numeric</th>\n",
       "    </tr>\n",
       "  </thead>\n",
       "  <tbody>\n",
       "    <tr>\n",
       "      <th>0</th>\n",
       "      <td>Mining</td>\n",
       "      <td>Mass stabilisation and erosion control</td>\n",
       "      <td>M</td>\n",
       "      <td>Although less practical, production process ca...</td>\n",
       "      <td>0.6</td>\n",
       "    </tr>\n",
       "    <tr>\n",
       "      <th>1</th>\n",
       "      <td>Mining</td>\n",
       "      <td>Surface water</td>\n",
       "      <td>H</td>\n",
       "      <td>Ecosystem service is critical and irreplaceabl...</td>\n",
       "      <td>0.8</td>\n",
       "    </tr>\n",
       "    <tr>\n",
       "      <th>2</th>\n",
       "      <td>Mining</td>\n",
       "      <td>Water flow maintenance</td>\n",
       "      <td>H</td>\n",
       "      <td>Ecosystem service is critical and irreplaceabl...</td>\n",
       "      <td>0.8</td>\n",
       "    </tr>\n",
       "    <tr>\n",
       "      <th>3</th>\n",
       "      <td>Mining</td>\n",
       "      <td>Ground water</td>\n",
       "      <td>H</td>\n",
       "      <td>Ecosystem service is critical and irreplaceabl...</td>\n",
       "      <td>0.8</td>\n",
       "    </tr>\n",
       "    <tr>\n",
       "      <th>4</th>\n",
       "      <td>Mining</td>\n",
       "      <td>Climate regulation</td>\n",
       "      <td>H</td>\n",
       "      <td>The production process is extremely vulnerable...</td>\n",
       "      <td>0.8</td>\n",
       "    </tr>\n",
       "  </tbody>\n",
       "</table>\n",
       "</div>"
      ],
      "text/plain": [
       "  process                       ecosystem_service rating  \\\n",
       "0  Mining  Mass stabilisation and erosion control      M   \n",
       "1  Mining                           Surface water      H   \n",
       "2  Mining                  Water flow maintenance      H   \n",
       "3  Mining                            Ground water      H   \n",
       "4  Mining                      Climate regulation      H   \n",
       "\n",
       "                                       justification  rating_numeric  \n",
       "0  Although less practical, production process ca...             0.6  \n",
       "1  Ecosystem service is critical and irreplaceabl...             0.8  \n",
       "2  Ecosystem service is critical and irreplaceabl...             0.8  \n",
       "3  Ecosystem service is critical and irreplaceabl...             0.8  \n",
       "4  The production process is extremely vulnerable...             0.8  "
      ]
     },
     "execution_count": 13,
     "metadata": {},
     "output_type": "execute_result"
    }
   ],
   "source": [
    "rating_to_numeric = {\n",
    "    'No dependency':0\n",
    "    , 'VL':.2\n",
    "    , 'L':.4\n",
    "    , 'M':.6\n",
    "    , 'H':.8\n",
    "    , 'VH':1\n",
    "    \n",
    "}\n",
    "mining_materiality['rating_numeric'] = mining_materiality['rating'].map(rating_to_numeric)\n",
    "mining_materiality.reset_index(drop=True, inplace=True)\n",
    "mining_materiality"
   ]
  },
  {
   "cell_type": "code",
   "execution_count": 14,
   "id": "1da8ca2d",
   "metadata": {},
   "outputs": [
    {
     "data": {
      "text/plain": [
       "'Ecosystem service is critical and irreplaceable in production process'"
      ]
     },
     "execution_count": 14,
     "metadata": {},
     "output_type": "execute_result"
    }
   ],
   "source": [
    "mining_materiality['justification'].loc[1]"
   ]
  },
  {
   "cell_type": "code",
   "execution_count": 15,
   "id": "6312d1f7",
   "metadata": {},
   "outputs": [],
   "source": [
    "#checking subindustries sector and processes\n",
    "#within the asset df the gics sectors are diversified metals & mining and Copper Which both relates to Mining Process\n",
    "#but they do have different category; need a more granular map\n",
    "# sector_subindustries_and_processes[sector_subindustries_and_processes['Process']=='Mining']"
   ]
  },
  {
   "cell_type": "code",
   "execution_count": 16,
   "id": "4e3f6839",
   "metadata": {},
   "outputs": [],
   "source": [
    "# sector_subindustries_and_processes"
   ]
  },
  {
   "cell_type": "markdown",
   "id": "031c25d5",
   "metadata": {},
   "source": [
    "## 2.2 - Other Dataset"
   ]
  },
  {
   "cell_type": "code",
   "execution_count": 17,
   "id": "529fb23e",
   "metadata": {},
   "outputs": [],
   "source": [
    "# driver_of_change.loc[25][0], driver_of_change.loc[25][1],  driver_of_change.loc[25][2]\n",
    "\n",
    "# asset.loc[7][0], asset.loc[7][1], asset.loc[7][2]\n",
    "\n",
    "# water = asset_ecosystem_services[asset_ecosystem_services['Ecosystem Service'].str.contains('water')]\n",
    "# water.loc[22][0], water.loc[22][1], water.loc[22][2]\n",
    "\n",
    "# water.loc[45][0], water.loc[45][1], water.loc[45][2]\n",
    "\n",
    "# ecosystem_services.loc[10][0],ecosystem_services.loc[10][1],ecosystem_services.loc[10][2]\n",
    "\n",
    "# ecosystem_services.loc[17][0],ecosystem_services.loc[17][1],ecosystem_services.loc[17][2]"
   ]
  },
  {
   "cell_type": "code",
   "execution_count": null,
   "id": "87ce8a63",
   "metadata": {},
   "outputs": [],
   "source": []
  }
 ],
 "metadata": {
  "kernelspec": {
   "display_name": "Python 3 (ipykernel)",
   "language": "python",
   "name": "python3"
  },
  "language_info": {
   "codemirror_mode": {
    "name": "ipython",
    "version": 3
   },
   "file_extension": ".py",
   "mimetype": "text/x-python",
   "name": "python",
   "nbconvert_exporter": "python",
   "pygments_lexer": "ipython3",
   "version": "3.9.7"
  }
 },
 "nbformat": 4,
 "nbformat_minor": 5
}
